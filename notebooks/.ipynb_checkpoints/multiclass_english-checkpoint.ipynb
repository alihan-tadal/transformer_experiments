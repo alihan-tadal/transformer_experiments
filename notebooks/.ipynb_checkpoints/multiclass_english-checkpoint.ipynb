{
 "cells": [
  {
   "cell_type": "markdown",
   "id": "79ea7750",
   "metadata": {},
   "source": [
    "# Transformer ile Çok Etiketli Metin Sınıflandırma \n",
    "\n",
    "## Giriş\n",
    "Bu tutorial'da, çok etiketli metin sınıflandırma problemi için bir transformer modeli fine-tune edeceğiz. Bu problem oldukça yaygındır ve verilen metin, cümle ya da dökümanın bir veya birden fazla kategoriye ayrılması işi olarak özetlenebilir. Örneğin bir film bir veya birden fazla türün üyesi olabilir.\n",
    "\n",
    "Tutorail'ın akışı aşağıdaki gibi olacaktır:\n",
    "- Kütüphanelerin dahil edilmesi ve geliştirme ortamının hazırlanması.\n",
    "- Verilerin dahil edilip ön işlemeden geçirilmesi.\n",
    "- Veri setinin ve veri yükleyicinin hazırlanması.\n",
    "- Fine tune işlemi için neural network (NN) oluşturulması.\n",
    "- Modelin fine tune edilmesi.\n",
    "- Model performansının doğrulanması.\n",
    "- Modelin ve diğer objelerin sonraki işler için kaydedilmesi.\n",
    "\n",
    "### Teknik detaylar\n",
    "Başlamadan önce aşağıdaki bilgilere sahip olmakta fayda var: \n",
    "__Veri__:\n",
    "- Kullanılan veri seti, __Kaggle__ üzerinde _Jigsaw Toxic Dataset_ olarak geçmektedir.\n",
    "- Sadece ilk csv dosyası (`train.csv`) kullanılacaktır.\n",
    "- Dosya içindeki her bir satır sırasıyla aşağıdaki anlamları taşır:\n",
    "    - `comment_text`\n",
    "    - `toxic`\n",
    "    - `severe_toxic`\n",
    "    - `obsence`\n",
    "    - `threat`\n",
    "    - `insult`\n",
    "    - `identity_hate`\n",
    "- Verilen metin yukarıdaki özelliklere sahipse 1 değerini, aksi durumda 0 değerini alır.\n",
    "__Kullanılan Dil Modeli__: \n",
    "- Bu örnekte Google AI Team tarafından geliştirilen BERT modeli kullanılmıştır. \n",
    "- Lütfen BERT ve DistilBERT modellerinin farklı modeller olduklarını aklınızda bulundurun. Mesela DistilBERT modelinde tokenizer bir `token_type_ids` değeri üretemez. İlerleyen kısımlarda daha fazla detay verilecektir.\n",
    "__Sistem Gereksinimleri__:\n",
    "- Python 3.6 ve daha güncel versiyonlar\n",
    "- Pytorch, Transformers kütüphaneleri\n",
    "- GPU'ya sahip bir kurulum\n"
   ]
  },
  {
   "cell_type": "code",
   "execution_count": null,
   "id": "e8767542",
   "metadata": {},
   "outputs": [],
   "source": []
  }
 ],
 "metadata": {
  "kernelspec": {
   "display_name": "Python 3 (ipykernel)",
   "language": "python",
   "name": "python3"
  },
  "language_info": {
   "codemirror_mode": {
    "name": "ipython",
    "version": 3
   },
   "file_extension": ".py",
   "mimetype": "text/x-python",
   "name": "python",
   "nbconvert_exporter": "python",
   "pygments_lexer": "ipython3",
   "version": "3.10.8"
  }
 },
 "nbformat": 4,
 "nbformat_minor": 5
}
